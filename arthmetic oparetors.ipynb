{
 "cells": [
  {
   "cell_type": "code",
   "execution_count": 1,
   "id": "54851851",
   "metadata": {},
   "outputs": [],
   "source": [
    "a=5\n",
    "b=5\n",
    "sum=a+b"
   ]
  },
  {
   "cell_type": "code",
   "execution_count": 2,
   "id": "f5a2e4f2",
   "metadata": {},
   "outputs": [
    {
     "name": "stdout",
     "output_type": "stream",
     "text": [
      "10\n"
     ]
    }
   ],
   "source": [
    "print(sum)"
   ]
  },
  {
   "cell_type": "code",
   "execution_count": 3,
   "id": "95ca0173",
   "metadata": {},
   "outputs": [
    {
     "data": {
      "text/plain": [
       "int"
      ]
     },
     "execution_count": 3,
     "metadata": {},
     "output_type": "execute_result"
    }
   ],
   "source": [
    "type(sum)"
   ]
  },
  {
   "cell_type": "code",
   "execution_count": 4,
   "id": "7737b5c6",
   "metadata": {},
   "outputs": [],
   "source": [
    "a=10.5\n",
    "b=4.5\n",
    "sum=a+b"
   ]
  },
  {
   "cell_type": "code",
   "execution_count": 5,
   "id": "4fd92b8f",
   "metadata": {},
   "outputs": [
    {
     "name": "stdout",
     "output_type": "stream",
     "text": [
      "15.0\n"
     ]
    }
   ],
   "source": [
    "print(sum)"
   ]
  },
  {
   "cell_type": "code",
   "execution_count": 6,
   "id": "4f934743",
   "metadata": {},
   "outputs": [],
   "source": [
    "a=5\n",
    "b=4.5\n",
    "sum=a+b"
   ]
  },
  {
   "cell_type": "code",
   "execution_count": 7,
   "id": "2a588442",
   "metadata": {},
   "outputs": [
    {
     "name": "stdout",
     "output_type": "stream",
     "text": [
      "9.5\n"
     ]
    }
   ],
   "source": [
    "print(sum)"
   ]
  },
  {
   "cell_type": "code",
   "execution_count": 8,
   "id": "64bf5fd4",
   "metadata": {},
   "outputs": [
    {
     "data": {
      "text/plain": [
       "float"
      ]
     },
     "execution_count": 8,
     "metadata": {},
     "output_type": "execute_result"
    }
   ],
   "source": [
    "type(sum)"
   ]
  },
  {
   "cell_type": "markdown",
   "id": "cbe7db37",
   "metadata": {},
   "source": [
    "1.int+int=int\n",
    "2.int+float=float\n",
    "3.float+float=float"
   ]
  },
  {
   "cell_type": "code",
   "execution_count": 9,
   "id": "8938f076",
   "metadata": {},
   "outputs": [],
   "source": [
    "a=5\n",
    "b=5\n",
    "sub=a-b"
   ]
  },
  {
   "cell_type": "code",
   "execution_count": 10,
   "id": "82068c5d",
   "metadata": {},
   "outputs": [
    {
     "name": "stdout",
     "output_type": "stream",
     "text": [
      "0\n"
     ]
    }
   ],
   "source": [
    "print(sub)"
   ]
  },
  {
   "cell_type": "code",
   "execution_count": 11,
   "id": "eced9fc1",
   "metadata": {},
   "outputs": [],
   "source": [
    "a=5\n",
    "b=5.5\n",
    "sub=a-b\n"
   ]
  },
  {
   "cell_type": "code",
   "execution_count": 12,
   "id": "aadecaf0",
   "metadata": {},
   "outputs": [
    {
     "name": "stdout",
     "output_type": "stream",
     "text": [
      "-0.5\n"
     ]
    }
   ],
   "source": [
    "print(sub)"
   ]
  },
  {
   "cell_type": "code",
   "execution_count": 13,
   "id": "638f1d99",
   "metadata": {},
   "outputs": [],
   "source": [
    "a=5.5\n",
    "b=6.5\n",
    "sub=a-b"
   ]
  },
  {
   "cell_type": "code",
   "execution_count": 14,
   "id": "810e3261",
   "metadata": {},
   "outputs": [
    {
     "name": "stdout",
     "output_type": "stream",
     "text": [
      "-1.0\n"
     ]
    }
   ],
   "source": [
    "print(sub)"
   ]
  },
  {
   "cell_type": "markdown",
   "id": "58baa3c1",
   "metadata": {},
   "source": [
    "int-int=int\n",
    "int-float=float\n",
    "float-float=float"
   ]
  },
  {
   "cell_type": "code",
   "execution_count": 15,
   "id": "a464159a",
   "metadata": {},
   "outputs": [
    {
     "data": {
      "text/plain": [
       "0.3000000000000007"
      ]
     },
     "execution_count": 15,
     "metadata": {},
     "output_type": "execute_result"
    }
   ],
   "source": [
    "a=10.5\n",
    "b=10.2\n",
    "sub=a-b\n",
    "sub"
   ]
  },
  {
   "cell_type": "code",
   "execution_count": 16,
   "id": "386de12c",
   "metadata": {},
   "outputs": [
    {
     "data": {
      "text/plain": [
       "4"
      ]
     },
     "execution_count": 16,
     "metadata": {},
     "output_type": "execute_result"
    }
   ],
   "source": [
    "a=2\n",
    "b=2\n",
    "mul=a*b\n",
    "mul"
   ]
  },
  {
   "cell_type": "code",
   "execution_count": 17,
   "id": "02960053",
   "metadata": {},
   "outputs": [
    {
     "data": {
      "text/plain": [
       "4.6"
      ]
     },
     "execution_count": 17,
     "metadata": {},
     "output_type": "execute_result"
    }
   ],
   "source": [
    "a=2\n",
    "b=2.3\n",
    "mul=a*b\n",
    "mul"
   ]
  },
  {
   "cell_type": "code",
   "execution_count": 18,
   "id": "ee5fefd5",
   "metadata": {},
   "outputs": [
    {
     "data": {
      "text/plain": [
       "35.75"
      ]
     },
     "execution_count": 18,
     "metadata": {},
     "output_type": "execute_result"
    }
   ],
   "source": [
    "a=6.5\n",
    "b=5.5\n",
    "mul=a*b\n",
    "mul"
   ]
  },
  {
   "cell_type": "markdown",
   "id": "53ac07f5",
   "metadata": {},
   "source": []
  },
  {
   "cell_type": "code",
   "execution_count": 19,
   "id": "a30116ec",
   "metadata": {},
   "outputs": [
    {
     "data": {
      "text/plain": [
       "1.6666666666666667"
      ]
     },
     "execution_count": 19,
     "metadata": {},
     "output_type": "execute_result"
    }
   ],
   "source": [
    "a=5\n",
    "b=3\n",
    "div=a/b\n",
    "div"
   ]
  },
  {
   "cell_type": "code",
   "execution_count": 20,
   "id": "dce5d0ba",
   "metadata": {},
   "outputs": [
    {
     "data": {
      "text/plain": [
       "4.0"
      ]
     },
     "execution_count": 20,
     "metadata": {},
     "output_type": "execute_result"
    }
   ],
   "source": [
    "a=10\n",
    "b=2.5\n",
    "div=a/b\n",
    "div"
   ]
  },
  {
   "cell_type": "markdown",
   "id": "7e81522c",
   "metadata": {},
   "source": [
    "it is always float"
   ]
  },
  {
   "cell_type": "code",
   "execution_count": null,
   "id": "a8c814ea",
   "metadata": {},
   "outputs": [],
   "source": []
  },
  {
   "cell_type": "code",
   "execution_count": 21,
   "id": "b65f3f1f",
   "metadata": {},
   "outputs": [
    {
     "data": {
      "text/plain": [
       "8"
      ]
     },
     "execution_count": 21,
     "metadata": {},
     "output_type": "execute_result"
    }
   ],
   "source": [
    "a=2\n",
    "b=3\n",
    "exp=a**b\n",
    "exp"
   ]
  },
  {
   "cell_type": "code",
   "execution_count": 22,
   "id": "158ea23b",
   "metadata": {},
   "outputs": [
    {
     "data": {
      "text/plain": [
       "-8"
      ]
     },
     "execution_count": 22,
     "metadata": {},
     "output_type": "execute_result"
    }
   ],
   "source": [
    "a=-2\n",
    "b=3\n",
    "exp=a**b\n",
    "exp"
   ]
  },
  {
   "cell_type": "code",
   "execution_count": 23,
   "id": "d1302a1c",
   "metadata": {},
   "outputs": [
    {
     "data": {
      "text/plain": [
       "0.125"
      ]
     },
     "execution_count": 23,
     "metadata": {},
     "output_type": "execute_result"
    }
   ],
   "source": [
    "a=2\n",
    "b=-3\n",
    "exp=a**b\n",
    "exp"
   ]
  },
  {
   "cell_type": "code",
   "execution_count": 24,
   "id": "479fb6c5",
   "metadata": {},
   "outputs": [
    {
     "data": {
      "text/plain": [
       "-0.125"
      ]
     },
     "execution_count": 24,
     "metadata": {},
     "output_type": "execute_result"
    }
   ],
   "source": [
    "a=-2\n",
    "b=-3\n",
    "exp=a**b\n",
    "exp"
   ]
  },
  {
   "cell_type": "code",
   "execution_count": 25,
   "id": "feff46a4",
   "metadata": {},
   "outputs": [
    {
     "data": {
      "text/plain": [
       "9.849155306759329"
      ]
     },
     "execution_count": 25,
     "metadata": {},
     "output_type": "execute_result"
    }
   ],
   "source": [
    "a=2\n",
    "b=3.3\n",
    "exp=a**b\n",
    "exp"
   ]
  },
  {
   "cell_type": "code",
   "execution_count": 26,
   "id": "1515ecaf",
   "metadata": {},
   "outputs": [
    {
     "data": {
      "text/plain": [
       "0"
      ]
     },
     "execution_count": 26,
     "metadata": {},
     "output_type": "execute_result"
    }
   ],
   "source": []
  },
  {
   "cell_type": "code",
   "execution_count": 27,
   "id": "98bdfaa7",
   "metadata": {},
   "outputs": [
    {
     "data": {
      "text/plain": [
       "5"
      ]
     },
     "execution_count": 27,
     "metadata": {},
     "output_type": "execute_result"
    }
   ],
   "source": [
    "a=5\n",
    "b=6\n",
    "mod=a%b\n",
    "mod"
   ]
  },
  {
   "cell_type": "code",
   "execution_count": 28,
   "id": "f7ecf823",
   "metadata": {},
   "outputs": [
    {
     "data": {
      "text/plain": [
       "4"
      ]
     },
     "execution_count": 28,
     "metadata": {},
     "output_type": "execute_result"
    }
   ],
   "source": [
    "a=10\n",
    "b=6\n",
    "mod=a%b\n",
    "mod"
   ]
  },
  {
   "cell_type": "markdown",
   "id": "8d835135",
   "metadata": {},
   "source": [
    "a%b: if a>b ,it gives remainder ,a<b it gives a "
   ]
  },
  {
   "cell_type": "code",
   "execution_count": 33,
   "id": "ae6190f5",
   "metadata": {},
   "outputs": [
    {
     "data": {
      "text/plain": [
       "1"
      ]
     },
     "execution_count": 33,
     "metadata": {},
     "output_type": "execute_result"
    }
   ],
   "source": [
    "a=81\n",
    "b=16\n",
    "mod=a%b\n",
    "mod"
   ]
  },
  {
   "cell_type": "code",
   "execution_count": 34,
   "id": "a5e6185d",
   "metadata": {},
   "outputs": [
    {
     "data": {
      "text/plain": [
       "4"
      ]
     },
     "execution_count": 34,
     "metadata": {},
     "output_type": "execute_result"
    }
   ],
   "source": [
    "a=8\n",
    "b=2\n",
    "fd=a//b\n",
    "fd"
   ]
  },
  {
   "cell_type": "code",
   "execution_count": 35,
   "id": "f252d560",
   "metadata": {},
   "outputs": [
    {
     "data": {
      "text/plain": [
       "0"
      ]
     },
     "execution_count": 35,
     "metadata": {},
     "output_type": "execute_result"
    }
   ],
   "source": [
    "a=2\n",
    "b=8\n",
    "fd=a//b\n",
    "fd"
   ]
  },
  {
   "cell_type": "markdown",
   "id": "bb6b06e4",
   "metadata": {},
   "source": [
    "#### in floor division a//b: if a>b it gives quotient, if a<b=0"
   ]
  },
  {
   "cell_type": "code",
   "execution_count": null,
   "id": "c19b0017",
   "metadata": {},
   "outputs": [],
   "source": []
  }
 ],
 "metadata": {
  "kernelspec": {
   "display_name": "Python 3 (ipykernel)",
   "language": "python",
   "name": "python3"
  },
  "language_info": {
   "codemirror_mode": {
    "name": "ipython",
    "version": 3
   },
   "file_extension": ".py",
   "mimetype": "text/x-python",
   "name": "python",
   "nbconvert_exporter": "python",
   "pygments_lexer": "ipython3",
   "version": "3.9.7"
  }
 },
 "nbformat": 4,
 "nbformat_minor": 5
}
